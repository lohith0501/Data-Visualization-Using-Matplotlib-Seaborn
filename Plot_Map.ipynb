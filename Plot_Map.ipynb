{
 "cells": [
  {
   "cell_type": "markdown",
   "metadata": {},
   "source": [
    "# Map plotting using plotly"
   ]
  },
  {
   "cell_type": "code",
   "execution_count": 108,
   "metadata": {},
   "outputs": [],
   "source": [
    "import json\n",
    "import pandas as pd\n",
    "import plotly.express as px\n",
    "import numpy as np"
   ]
  },
  {
   "cell_type": "code",
   "execution_count": 109,
   "metadata": {},
   "outputs": [],
   "source": [
    "import plotly.io as pio\n",
    "pio.renderers.default='browser'"
   ]
  },
  {
   "cell_type": "code",
   "execution_count": 110,
   "metadata": {},
   "outputs": [],
   "source": [
    "us_states=json.load(open(\"us_states.geojson\",'r'))"
   ]
  },
  {
   "cell_type": "code",
   "execution_count": 111,
   "metadata": {},
   "outputs": [],
   "source": [
    "df=pd.read_excel(\"states_data.xlsx\")"
   ]
  },
  {
   "cell_type": "code",
   "execution_count": 113,
   "metadata": {},
   "outputs": [],
   "source": [
    "state_id_map={}\n",
    "for feature in us_states[\"features\"]:\n",
    "    feature['id']=feature['properties']['cartodb_id']\n",
    "    state_id_map[feature['properties']['name']]=feature['id']"
   ]
  },
  {
   "cell_type": "code",
   "execution_count": 114,
   "metadata": {},
   "outputs": [],
   "source": [
    "df['id']=df['State'].apply(lambda x:state_id_map[x])"
   ]
  },
  {
   "cell_type": "code",
   "execution_count": 115,
   "metadata": {},
   "outputs": [],
   "source": [
    "df[\"Income_scale\"]=np.log10(df['Income'])"
   ]
  },
  {
   "cell_type": "code",
   "execution_count": 122,
   "metadata": {},
   "outputs": [],
   "source": [
    "fig=px.choropleth(df,\n",
    "             locations='id',\n",
    "             geojson=us_states,\n",
    "             color='Income_scale',\n",
    "             hover_name=\"State\",\n",
    "             hover_data=['Income'],\n",
    "             color_continuous_scale=px.colors.diverging.BrBG,\n",
    "             color_continuous_midpoint=0\n",
    "                  \n",
    "             )\n",
    "fig.update_geos(fitbounds='locations',visible=False)\n",
    "fig.show()"
   ]
  },
  {
   "cell_type": "markdown",
   "metadata": {},
   "source": [
    "## Using Mapbox which does not require geojson file"
   ]
  },
  {
   "cell_type": "code",
   "execution_count": 123,
   "metadata": {},
   "outputs": [],
   "source": [
    "fig = px.choropleth_mapbox(\n",
    "    df,\n",
    "    locations='id',\n",
    "    geojson=us_states,\n",
    "    color='Income_scale',\n",
    "    hover_name=\"State\",\n",
    "    hover_data=['Income'],\n",
    "    title=\"US Income Distribution\",\n",
    "    mapbox_style=\"carto-positron\",\n",
    "    center={\"lat\": 37, \"lon\": 95},\n",
    "    zoom=3,\n",
    "    opacity=0.5,\n",
    ")\n",
    "fig.show()"
   ]
  },
  {
   "cell_type": "code",
   "execution_count": null,
   "metadata": {},
   "outputs": [],
   "source": []
  },
  {
   "cell_type": "code",
   "execution_count": null,
   "metadata": {},
   "outputs": [],
   "source": []
  }
 ],
 "metadata": {
  "kernelspec": {
   "display_name": "Python 3",
   "language": "python",
   "name": "python3"
  },
  "language_info": {
   "codemirror_mode": {
    "name": "ipython",
    "version": 3
   },
   "file_extension": ".py",
   "mimetype": "text/x-python",
   "name": "python",
   "nbconvert_exporter": "python",
   "pygments_lexer": "ipython3",
   "version": "3.7.7"
  }
 },
 "nbformat": 4,
 "nbformat_minor": 4
}
